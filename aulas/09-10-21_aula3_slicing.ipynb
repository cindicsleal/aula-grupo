{
 "cells": [
  {
   "cell_type": "markdown",
   "metadata": {},
   "source": [
    "# Fatiamento (slicing)"
   ]
  },
  {
   "cell_type": "code",
   "execution_count": 1,
   "metadata": {},
   "outputs": [],
   "source": [
    "# Sintaxe do slicing -> objeto[start:stop:step]\n",
    "\n",
    "nome = \"Henrique Alves Junqueira Nogueira Branco\""
   ]
  },
  {
   "cell_type": "code",
   "execution_count": 2,
   "metadata": {},
   "outputs": [
    {
     "data": {
      "text/plain": [
       "{0: 'H',\n",
       " 1: 'e',\n",
       " 2: 'n',\n",
       " 3: 'r',\n",
       " 4: 'i',\n",
       " 5: 'q',\n",
       " 6: 'u',\n",
       " 7: 'e',\n",
       " 8: ' ',\n",
       " 9: 'A',\n",
       " 10: 'l',\n",
       " 11: 'v',\n",
       " 12: 'e',\n",
       " 13: 's',\n",
       " 14: ' ',\n",
       " 15: 'J',\n",
       " 16: 'u',\n",
       " 17: 'n',\n",
       " 18: 'q',\n",
       " 19: 'u',\n",
       " 20: 'e',\n",
       " 21: 'i',\n",
       " 22: 'r',\n",
       " 23: 'a',\n",
       " 24: ' ',\n",
       " 25: 'N',\n",
       " 26: 'o',\n",
       " 27: 'g',\n",
       " 28: 'u',\n",
       " 29: 'e',\n",
       " 30: 'i',\n",
       " 31: 'r',\n",
       " 32: 'a',\n",
       " 33: ' ',\n",
       " 34: 'B',\n",
       " 35: 'r',\n",
       " 36: 'a',\n",
       " 37: 'n',\n",
       " 38: 'c',\n",
       " 39: 'o'}"
      ]
     },
     "execution_count": 2,
     "metadata": {},
     "output_type": "execute_result"
    }
   ],
   "source": [
    "# Não aprendemos dicionários nem loop-for ainda\n",
    "# mas somente a título de curiosidade...\n",
    "\n",
    "# Mapeamento entre índice e as posições da string:\n",
    "mapping = {}\n",
    "for indice, letra in enumerate(nome):\n",
    "    mapping[indice] = letra\n",
    "mapping"
   ]
  },
  {
   "cell_type": "markdown",
   "metadata": {},
   "source": [
    "## Seleção de uma única letra"
   ]
  },
  {
   "cell_type": "code",
   "execution_count": 3,
   "metadata": {},
   "outputs": [
    {
     "data": {
      "text/plain": [
       "'e'"
      ]
     },
     "execution_count": 3,
     "metadata": {},
     "output_type": "execute_result"
    }
   ],
   "source": [
    "# Sintaxe do slicing -> objeto[start:stop:step]\n",
    "\n",
    "# Indexação em Python começa por zero!\n",
    "\n",
    "# Selecionando apenas a letra com índice 8 (9) na string\n",
    "nome[7]"
   ]
  },
  {
   "cell_type": "code",
   "execution_count": 4,
   "metadata": {},
   "outputs": [
    {
     "data": {
      "text/plain": [
       "'c'"
      ]
     },
     "execution_count": 4,
     "metadata": {},
     "output_type": "execute_result"
    }
   ],
   "source": [
    "# Seleção de índices na ordem inversa\n",
    "# última letra -> índice -1\n",
    "# penúltima letra -> índice -2 ...\n",
    "nome[-2]"
   ]
  },
  {
   "cell_type": "markdown",
   "metadata": {},
   "source": [
    "## Seleção de várias letras"
   ]
  },
  {
   "cell_type": "code",
   "execution_count": 5,
   "metadata": {},
   "outputs": [
    {
     "data": {
      "text/plain": [
       "'Henrique'"
      ]
     },
     "metadata": {},
     "output_type": "display_data"
    },
    {
     "data": {
      "text/plain": [
       "'e'"
      ]
     },
     "metadata": {},
     "output_type": "display_data"
    },
    {
     "data": {
      "text/plain": [
       "' '"
      ]
     },
     "metadata": {},
     "output_type": "display_data"
    }
   ],
   "source": [
    "# [0:8]\n",
    "# Selecione as letras do índice 0 até o índice 8 (não inclui o índice 8!)\n",
    "display(nome[:8])\n",
    "\n",
    "# Conferindo:\n",
    "display(mapping[7]) # Letra e (última letra na resposta)\n",
    "display(mapping[8]) # Espaço em branco ' ' (não trouxe no resultado acima)\n"
   ]
  },
  {
   "cell_type": "code",
   "execution_count": 6,
   "metadata": {},
   "outputs": [
    {
     "data": {
      "text/plain": [
       "'Alves'"
      ]
     },
     "execution_count": 6,
     "metadata": {},
     "output_type": "execute_result"
    }
   ],
   "source": [
    "# [9:14] \n",
    "# Selecione as letras do índice 9 até o índice 14 (não inclui o índice 14!)\n",
    "nome[9:14]"
   ]
  },
  {
   "cell_type": "code",
   "execution_count": 7,
   "metadata": {},
   "outputs": [
    {
     "data": {
      "text/plain": [
       "'Hniu'"
      ]
     },
     "metadata": {},
     "output_type": "display_data"
    },
    {
     "data": {
      "text/plain": [
       "'H'"
      ]
     },
     "metadata": {},
     "output_type": "display_data"
    },
    {
     "data": {
      "text/plain": [
       "'n'"
      ]
     },
     "metadata": {},
     "output_type": "display_data"
    },
    {
     "data": {
      "text/plain": [
       "'i'"
      ]
     },
     "metadata": {},
     "output_type": "display_data"
    },
    {
     "data": {
      "text/plain": [
       "'u'"
      ]
     },
     "metadata": {},
     "output_type": "display_data"
    },
    {
     "data": {
      "text/plain": [
       "' '"
      ]
     },
     "metadata": {},
     "output_type": "display_data"
    }
   ],
   "source": [
    "# Incluindo o `step` no slicing\n",
    "display(nome[:8:2])\n",
    "\n",
    "# Traduzindo:\n",
    "# Traz do começo, até o índice 8 (exclusivo) pulando de 2 em 2\n",
    "# Conferindo:\n",
    "display(mapping[0])\n",
    "display(mapping[2])\n",
    "display(mapping[4])\n",
    "display(mapping[6])\n",
    "display(mapping[8]) # Espaço em branco! Não trouxe na resposta pois é exclusivo!"
   ]
  },
  {
   "cell_type": "code",
   "execution_count": 10,
   "metadata": {},
   "outputs": [
    {
     "data": {
      "text/plain": [
       "'ru'"
      ]
     },
     "metadata": {},
     "output_type": "display_data"
    },
    {
     "data": {
      "text/plain": [
       "'Letra na posição 3: r'"
      ]
     },
     "metadata": {},
     "output_type": "display_data"
    },
    {
     "data": {
      "text/plain": [
       "'Letra na posição 6: u'"
      ]
     },
     "metadata": {},
     "output_type": "display_data"
    }
   ],
   "source": [
    "# Quais índices trariam do nome o slicing abaixo?\n",
    "display(nome[3:9:3]) \n",
    "\n",
    "# Resposta: 3, 6\n",
    "# Conferindo: \n",
    "display(f\"Letra na posição 3: {mapping[3]}\")\n",
    "display(f\"Letra na posição 6: {mapping[6]}\")\n",
    "\n",
    "# Reflexão: porque não trouxe o índice 9?"
   ]
  },
  {
   "cell_type": "code",
   "execution_count": 9,
   "metadata": {},
   "outputs": [],
   "source": [
    "# Refaça o exercício acima usando os slicings abaixo\n",
    "# Pense antes de executar\n",
    "# nome[3:17:4]\n",
    "# nome[1::2]\n",
    "# nome[7::-2]"
   ]
  }
 ],
 "metadata": {
  "interpreter": {
   "hash": "916dbcbb3f70747c44a77c7bcd40155683ae19c65e1c03b4aa3499c5328201f1"
  },
  "kernelspec": {
   "display_name": "Python 3.8.10 64-bit",
   "name": "python3"
  },
  "language_info": {
   "codemirror_mode": {
    "name": "ipython",
    "version": 3
   },
   "file_extension": ".py",
   "mimetype": "text/x-python",
   "name": "python",
   "nbconvert_exporter": "python",
   "pygments_lexer": "ipython3",
   "version": "3.8.10"
  },
  "orig_nbformat": 4
 },
 "nbformat": 4,
 "nbformat_minor": 2
}
