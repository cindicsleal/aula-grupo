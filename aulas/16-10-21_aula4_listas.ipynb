{
 "cells": [
  {
   "cell_type": "markdown",
   "metadata": {},
   "source": [
    "# Listas\n",
    "\n",
    "https://docs.python.org/3/library/stdtypes.html#list"
   ]
  },
  {
   "cell_type": "markdown",
   "metadata": {},
   "source": [
    "## Formas de construção de listas:\n",
    "\n",
    "1. Usando um par de colchetes para criar uma lista vazia: []\n",
    "\n",
    "2. Usando colchetes e vírgular para separar os elementos: [a], [a, b, c]\n",
    "\n",
    "3. Usando compreensão de listas (veremos mais à frente!):  [x for x in iterable]\n",
    "\n",
    "4. Usando a função: list() ou list(sequencia)"
   ]
  },
  {
   "cell_type": "code",
   "execution_count": 1,
   "metadata": {},
   "outputs": [],
   "source": [
    "# Criando nossa primeira lista\n",
    "lista = [1,2,3,4,5]"
   ]
  },
  {
   "cell_type": "code",
   "execution_count": 2,
   "metadata": {},
   "outputs": [
    {
     "data": {
      "text/plain": [
       "list"
      ]
     },
     "execution_count": 2,
     "metadata": {},
     "output_type": "execute_result"
    }
   ],
   "source": [
    "# Checando que o objeto lista é do tipo `list`\n",
    "type(lista)"
   ]
  },
  {
   "cell_type": "code",
   "execution_count": 3,
   "metadata": {},
   "outputs": [],
   "source": [
    "# Armazena múltiplos tipos de dados\n",
    "lista_mista = [\"Henrique\", 1.2, 5, True]\n",
    "\n",
    "# Armazenando listas aninhadas (listas dentro de listas)\n",
    "lista_aninhada = [ [1,2,3], [4,5,6], 7,8,9 ]"
   ]
  },
  {
   "cell_type": "markdown",
   "metadata": {},
   "source": [
    "# Métodos de lista\n",
    "\n",
    "https://docs.python.org/3/tutorial/datastructures.html#more-on-lists"
   ]
  },
  {
   "cell_type": "code",
   "execution_count": 4,
   "metadata": {},
   "outputs": [
    {
     "data": {
      "text/plain": [
       "['Henrique', 1.2, 5, True, [1, 2, 3]]"
      ]
     },
     "execution_count": 4,
     "metadata": {},
     "output_type": "execute_result"
    }
   ],
   "source": [
    "# append -> adiciona um único elemento ao final da lista\n",
    "lista_mista.append([1,2,3])\n",
    "lista_mista"
   ]
  },
  {
   "cell_type": "code",
   "execution_count": 5,
   "metadata": {},
   "outputs": [
    {
     "data": {
      "text/plain": [
       "['Henrique', 1.2, 5, True, [1, 2, 3], 3, 4, 5]"
      ]
     },
     "execution_count": 5,
     "metadata": {},
     "output_type": "execute_result"
    }
   ],
   "source": [
    "# extend -> adiciona os elementos de uma sequencia, um a um, ao final da lista\n",
    "lista_mista.extend([3,4,5])\n",
    "lista_mista"
   ]
  },
  {
   "cell_type": "code",
   "execution_count": 6,
   "metadata": {},
   "outputs": [
    {
     "data": {
      "text/plain": [
       "[[1, 2, 3], [4, 5, 6], 7, [0, 0, 0], 8, 9]"
      ]
     },
     "execution_count": 6,
     "metadata": {},
     "output_type": "execute_result"
    }
   ],
   "source": [
    "# insert -> adiciona um elemento em uma posição específica\n",
    "# Podemos usar índices positivos ou negativos (lembram do slicing?)\n",
    "lista_aninhada.insert(-2, [0,0,0])\n",
    "lista_aninhada"
   ]
  },
  {
   "cell_type": "code",
   "execution_count": 7,
   "metadata": {},
   "outputs": [],
   "source": [
    "# Para refletir: qual será o resultado do comando abaixo?\n",
    "\n",
    "# >>> lista_vazia = []\n",
    "# >>> lista_vazia.append(\"Henrique Alves Junqueira\")\n",
    "\n",
    "# E se trocarmos o método para extend? Qual a diferença?\n",
    "\n",
    "# Pense antes de executar!"
   ]
  },
  {
   "cell_type": "code",
   "execution_count": 8,
   "metadata": {},
   "outputs": [
    {
     "data": {
      "text/plain": [
       "3"
      ]
     },
     "execution_count": 8,
     "metadata": {},
     "output_type": "execute_result"
    }
   ],
   "source": [
    "# index -> retorna o índice do elemento na lista\n",
    "lista_mista.index(True)"
   ]
  },
  {
   "cell_type": "code",
   "execution_count": 9,
   "metadata": {},
   "outputs": [
    {
     "data": {
      "text/plain": [
       "1.2"
      ]
     },
     "execution_count": 9,
     "metadata": {},
     "output_type": "execute_result"
    }
   ],
   "source": [
    "# pop -> remove o elemento daquele índice da lista e o retorna\n",
    "lista_mista.pop(0)\n",
    "\n",
    "# Pdemos salvar o retorno do `pop` para ser usado posteriormente\n",
    "retorno = lista_mista.pop(0)\n",
    "retorno"
   ]
  },
  {
   "cell_type": "code",
   "execution_count": 10,
   "metadata": {},
   "outputs": [
    {
     "data": {
      "text/plain": [
       "[5, True, [1, 2, 3], 3, 4, 5]"
      ]
     },
     "execution_count": 10,
     "metadata": {},
     "output_type": "execute_result"
    }
   ],
   "source": [
    "# Os dois primeros elementos da lista foram removidos\n",
    "# Somente o primeiro foi salvo na variável `retorno`\n",
    "lista_mista"
   ]
  },
  {
   "cell_type": "code",
   "execution_count": 11,
   "metadata": {},
   "outputs": [],
   "source": [
    "# del -> deleta itens da lista\n",
    "# del não retorna o elemento ou intervalo deletado!\n",
    "# podemos deletar um intervalo selecionado com slicing\n",
    "# Lembrando sempre que o stop no slicing é exclusivo!\n",
    "del lista[2:5]"
   ]
  },
  {
   "cell_type": "code",
   "execution_count": 12,
   "metadata": {},
   "outputs": [],
   "source": [
    "# Atenção! Os métodos pop, extend, append, etc. alteram a minha lista original!"
   ]
  },
  {
   "cell_type": "code",
   "execution_count": 13,
   "metadata": {},
   "outputs": [
    {
     "data": {
      "text/plain": [
       "3"
      ]
     },
     "execution_count": 13,
     "metadata": {},
     "output_type": "execute_result"
    }
   ],
   "source": [
    "# count -> conta quantas vezes o argumento passado como parâmetro ocorre na lista\n",
    "# mesma ideia do `str.count`\n",
    "lista_contagem = [1,2,3,1,2,4,15,6,1,2,4,5,6]\n",
    "\n",
    "# Quantas vezes o número 1 aparece na lista acima?\n",
    "lista_contagem.count(1)"
   ]
  },
  {
   "cell_type": "code",
   "execution_count": 14,
   "metadata": {},
   "outputs": [],
   "source": [
    "# invert -> inverte a ordem de uma lista\n",
    "lista_contagem.reverse()\n",
    "\n",
    "# Ao executar esse método, pode aparetar que nada aconteceu, mas veja a linha abaixo..."
   ]
  },
  {
   "cell_type": "code",
   "execution_count": 15,
   "metadata": {},
   "outputs": [
    {
     "data": {
      "text/plain": [
       "[6, 5, 4, 2, 1, 6, 15, 4, 2, 1, 3, 2, 1]"
      ]
     },
     "execution_count": 15,
     "metadata": {},
     "output_type": "execute_result"
    }
   ],
   "source": [
    "# Percebam que o comando `reverse` acima alterou meu objeto!!\n",
    "lista_contagem"
   ]
  },
  {
   "cell_type": "code",
   "execution_count": 16,
   "metadata": {},
   "outputs": [],
   "source": [
    "# sort -> ordena a lista\n",
    "lista_contagem.sort()\n",
    "\n",
    "# Novamente, a impressão é de que nada aconteceu, mas veja a a lista na célula abaixo"
   ]
  },
  {
   "cell_type": "code",
   "execution_count": 17,
   "metadata": {},
   "outputs": [
    {
     "data": {
      "text/plain": [
       "[1, 1, 1, 2, 2, 2, 3, 4, 4, 5, 6, 6, 15]"
      ]
     },
     "execution_count": 17,
     "metadata": {},
     "output_type": "execute_result"
    }
   ],
   "source": [
    "# Eis que a lista está ordenada!! O método acima também alterou meu objeto!\n",
    "lista_contagem"
   ]
  }
 ],
 "metadata": {
  "interpreter": {
   "hash": "31f2aee4e71d21fbe5cf8b01ff0e069b9275f58929596ceb00d14d90e3e16cd6"
  },
  "kernelspec": {
   "display_name": "Python 3.8.10 64-bit",
   "name": "python3"
  },
  "language_info": {
   "codemirror_mode": {
    "name": "ipython",
    "version": 3
   },
   "file_extension": ".py",
   "mimetype": "text/x-python",
   "name": "python",
   "nbconvert_exporter": "python",
   "pygments_lexer": "ipython3",
   "version": "3.8.10"
  },
  "orig_nbformat": 4
 },
 "nbformat": 4,
 "nbformat_minor": 2
}
