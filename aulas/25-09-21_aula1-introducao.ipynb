{
 "cells": [
  {
   "cell_type": "markdown",
   "source": [
    "Data: 25/09/21\n",
    "# Escopo da aula\n",
    "----\n",
    "## [1. Tipos de estruturas de dados](#tipo-estrutura-dados)\n",
    "\n",
    "### [1.1 Numéricos (int e float)](#numericos)\n",
    "### [1.2 Salvando em variáveis](#variaveis)\n",
    "### [1.3 Strings ](#strings)"
   ],
   "metadata": {}
  },
  {
   "cell_type": "markdown",
   "source": [
    "<div id=\"tipo-estrutura-dados\"/>\n",
    "\n",
    "# Tipos de estruturas de dados"
   ],
   "metadata": {}
  },
  {
   "cell_type": "markdown",
   "source": [
    "<div id=\"numericos\"/>\n",
    "\n",
    "## Numéricos (int e float)"
   ],
   "metadata": {}
  },
  {
   "cell_type": "code",
   "execution_count": 1,
   "source": [
    "9 # Representa um int\n",
    "5.2 # Representa um float. Decimal separado por ponto!"
   ],
   "outputs": [
    {
     "output_type": "execute_result",
     "data": {
      "text/plain": [
       "5.2"
      ]
     },
     "metadata": {},
     "execution_count": 1
    }
   ],
   "metadata": {}
  },
  {
   "cell_type": "code",
   "execution_count": 2,
   "source": [
    "# Adição\n",
    "1+2"
   ],
   "outputs": [
    {
     "output_type": "execute_result",
     "data": {
      "text/plain": [
       "3"
      ]
     },
     "metadata": {},
     "execution_count": 2
    }
   ],
   "metadata": {}
  },
  {
   "cell_type": "code",
   "execution_count": 3,
   "source": [
    "# Subtração\n",
    "3-2"
   ],
   "outputs": [
    {
     "output_type": "execute_result",
     "data": {
      "text/plain": [
       "1"
      ]
     },
     "metadata": {},
     "execution_count": 3
    }
   ],
   "metadata": {}
  },
  {
   "cell_type": "code",
   "execution_count": 4,
   "source": [
    "# Multiplicação\n",
    "3 * 3"
   ],
   "outputs": [
    {
     "output_type": "execute_result",
     "data": {
      "text/plain": [
       "9"
      ]
     },
     "metadata": {},
     "execution_count": 4
    }
   ],
   "metadata": {}
  },
  {
   "cell_type": "code",
   "execution_count": 5,
   "source": [
    "# Divisão\n",
    "\n",
    "# Link para documentação oficial\n",
    "# https://docs.python.org/3/tutorial/introduction.html#numbers\n",
    "\n",
    "4 / 2 # Sempre retorna um tipo `float`"
   ],
   "outputs": [
    {
     "output_type": "execute_result",
     "data": {
      "text/plain": [
       "2.0"
      ]
     },
     "metadata": {},
     "execution_count": 5
    }
   ],
   "metadata": {}
  },
  {
   "cell_type": "code",
   "execution_count": 6,
   "source": [
    "# Função `type`\n",
    "type(4 / 2)"
   ],
   "outputs": [
    {
     "output_type": "execute_result",
     "data": {
      "text/plain": [
       "float"
      ]
     },
     "metadata": {},
     "execution_count": 6
    }
   ],
   "metadata": {}
  },
  {
   "cell_type": "code",
   "execution_count": 7,
   "source": [
    "# Potenciação (elevado à)\n",
    "3 ** 2"
   ],
   "outputs": [
    {
     "output_type": "execute_result",
     "data": {
      "text/plain": [
       "9"
      ]
     },
     "metadata": {},
     "execution_count": 7
    }
   ],
   "metadata": {}
  },
  {
   "cell_type": "code",
   "execution_count": 8,
   "source": [
    "# Radiciação (inverso da radiciação)\n",
    "9 ** (1/2)"
   ],
   "outputs": [
    {
     "output_type": "execute_result",
     "data": {
      "text/plain": [
       "3.0"
      ]
     },
     "metadata": {},
     "execution_count": 8
    }
   ],
   "metadata": {}
  },
  {
   "cell_type": "code",
   "execution_count": 9,
   "source": [
    "# Precedência de operadores\n",
    "\n",
    "# Link para documentação oficial\n",
    "# https://docs.python.org/3/reference/expressions.html#operator-precedence\n",
    "\n",
    "-3 ** 2 # 9 ou -9 ?"
   ],
   "outputs": [
    {
     "output_type": "execute_result",
     "data": {
      "text/plain": [
       "-9"
      ]
     },
     "metadata": {},
     "execution_count": 9
    }
   ],
   "metadata": {}
  },
  {
   "cell_type": "markdown",
   "source": [
    "<div id=\"variaveis\"/>\n",
    "\n",
    "## Salvando em variáveis"
   ],
   "metadata": {}
  },
  {
   "cell_type": "code",
   "execution_count": 10,
   "source": [
    "# Operador de atribuição (=)\n",
    "\n",
    "resultado = 4 / 2"
   ],
   "outputs": [],
   "metadata": {}
  },
  {
   "cell_type": "code",
   "execution_count": 11,
   "source": [
    "# Transformação de estruturas de dados\n",
    "# funções int, float, str, list, tuple, etc.\n",
    "\n",
    "# Link da documentação oficial\n",
    "# https://docs.python.org/3/library/functions.html\n",
    "\n",
    "int(resultado)"
   ],
   "outputs": [
    {
     "output_type": "execute_result",
     "data": {
      "text/plain": [
       "2"
      ]
     },
     "metadata": {},
     "execution_count": 11
    }
   ],
   "metadata": {}
  },
  {
   "cell_type": "code",
   "execution_count": 12,
   "source": [
    "# Variável booleana (True ou False)\n",
    "verdadeiro = True\n",
    "type(verdadeiro)"
   ],
   "outputs": [
    {
     "output_type": "execute_result",
     "data": {
      "text/plain": [
       "bool"
      ]
     },
     "metadata": {},
     "execution_count": 12
    }
   ],
   "metadata": {}
  },
  {
   "cell_type": "markdown",
   "source": [
    "<div id=\"strings\"/>\n",
    "\n",
    "## Strings"
   ],
   "metadata": {}
  },
  {
   "cell_type": "code",
   "execution_count": 13,
   "source": [
    "# Cadeia de caracteres\n",
    "# Aspas simples ou duplas\n",
    "string = \"!Q#*%(#*)(%*()*%#()\"\n",
    "nome = \"Henrique Alves Junqueira\"\n",
    "\n",
    "string_asplas_simples = 'Essa string está com aspas simples'"
   ],
   "outputs": [],
   "metadata": {}
  },
  {
   "cell_type": "code",
   "execution_count": 14,
   "source": [
    "# Função `type`\n",
    "type(nome)"
   ],
   "outputs": [
    {
     "output_type": "execute_result",
     "data": {
      "text/plain": [
       "str"
      ]
     },
     "metadata": {},
     "execution_count": 14
    }
   ],
   "metadata": {}
  }
 ],
 "metadata": {
  "orig_nbformat": 4,
  "language_info": {
   "name": "python",
   "version": "3.8.10",
   "mimetype": "text/x-python",
   "codemirror_mode": {
    "name": "ipython",
    "version": 3
   },
   "pygments_lexer": "ipython3",
   "nbconvert_exporter": "python",
   "file_extension": ".py"
  },
  "kernelspec": {
   "name": "python3",
   "display_name": "Python 3.8.10 64-bit"
  },
  "interpreter": {
   "hash": "31f2aee4e71d21fbe5cf8b01ff0e069b9275f58929596ceb00d14d90e3e16cd6"
  }
 },
 "nbformat": 4,
 "nbformat_minor": 2
}