{
 "cells": [
  {
   "cell_type": "markdown",
   "source": [
    "# Escopo da aula\n",
    "----\n",
    "## [1. Tipos de estruturas de dados](#tipo-estrutura-dados)\n",
    "\n",
    "### [1.1 Numéricos (int e float)](#numericos)\n",
    "### [1.2 Salvando em variáveis](#variaveis)\n",
    "### [1.3 Strings ](#strings)"
   ],
   "metadata": {}
  },
  {
   "cell_type": "markdown",
   "source": [
    "<div id=\"tipo-estrutura-dados\"/>\n",
    "\n",
    "# Tipos de estruturas de dados"
   ],
   "metadata": {}
  },
  {
   "cell_type": "markdown",
   "source": [
    "<div id=\"numericos\"/>\n",
    "\n",
    "## Numéricos (int e float)"
   ],
   "metadata": {}
  },
  {
   "cell_type": "code",
   "execution_count": null,
   "source": [
    "9 # Representa um int\n",
    "5.2 # Representa um float. Decimal separado por ponto!"
   ],
   "outputs": [],
   "metadata": {}
  },
  {
   "cell_type": "code",
   "execution_count": 3,
   "source": [
    "# Adição\n",
    "1+2"
   ],
   "outputs": [
    {
     "output_type": "execute_result",
     "data": {
      "text/plain": [
       "3"
      ]
     },
     "metadata": {},
     "execution_count": 3
    }
   ],
   "metadata": {}
  },
  {
   "cell_type": "code",
   "execution_count": 4,
   "source": [
    "# Subtração\n",
    "3-2"
   ],
   "outputs": [
    {
     "output_type": "execute_result",
     "data": {
      "text/plain": [
       "1"
      ]
     },
     "metadata": {},
     "execution_count": 4
    }
   ],
   "metadata": {}
  },
  {
   "cell_type": "code",
   "execution_count": 5,
   "source": [
    "# Multiplicação\n",
    "3 * 3"
   ],
   "outputs": [
    {
     "output_type": "execute_result",
     "data": {
      "text/plain": [
       "9"
      ]
     },
     "metadata": {},
     "execution_count": 5
    }
   ],
   "metadata": {}
  },
  {
   "cell_type": "code",
   "execution_count": 13,
   "source": [
    "# Divisão (sempre retorna um tipo `float`)\n",
    "# Link para documentação oficial:\n",
    "# https://docs.python.org/3/tutorial/introduction.html#numbers\n",
    "\n",
    "4 / 2"
   ],
   "outputs": [
    {
     "output_type": "execute_result",
     "data": {
      "text/plain": [
       "2.0"
      ]
     },
     "metadata": {},
     "execution_count": 13
    }
   ],
   "metadata": {}
  },
  {
   "cell_type": "code",
   "execution_count": 12,
   "source": [
    "# Função `type`\n",
    "type(4 / 2)"
   ],
   "outputs": [
    {
     "output_type": "execute_result",
     "data": {
      "text/plain": [
       "float"
      ]
     },
     "metadata": {},
     "execution_count": 12
    }
   ],
   "metadata": {}
  },
  {
   "cell_type": "code",
   "execution_count": 15,
   "source": [
    "# Potenciação (elevado)\n",
    "3 ** 2"
   ],
   "outputs": [
    {
     "output_type": "execute_result",
     "data": {
      "text/plain": [
       "9"
      ]
     },
     "metadata": {},
     "execution_count": 15
    }
   ],
   "metadata": {}
  },
  {
   "cell_type": "code",
   "execution_count": 16,
   "source": [
    "# Radiciação (inverso da radiciação)\n",
    "9 ** (1/2)"
   ],
   "outputs": [
    {
     "output_type": "execute_result",
     "data": {
      "text/plain": [
       "3.0"
      ]
     },
     "metadata": {},
     "execution_count": 16
    }
   ],
   "metadata": {}
  },
  {
   "cell_type": "code",
   "execution_count": 20,
   "source": [
    "# Precedência de operadores\n",
    "\n",
    "# Link para documentação oficial:\n",
    "# https://docs.python.org/3/reference/expressions.html#operator-precedence\n",
    "\n",
    "-3 ** 2 # 9 ou -9 ?\n"
   ],
   "outputs": [
    {
     "output_type": "execute_result",
     "data": {
      "text/plain": [
       "9"
      ]
     },
     "metadata": {},
     "execution_count": 20
    }
   ],
   "metadata": {}
  },
  {
   "cell_type": "markdown",
   "source": [
    "# Variáveis"
   ],
   "metadata": {}
  },
  {
   "cell_type": "code",
   "execution_count": 36,
   "source": [
    "# Operador de atribuição (=)\n",
    "\n",
    "resultado = 4 / 2\n",
    "\n",
    "# Linguagem tipada\n",
    "# resultado: float\n",
    "# float = 4 / 2"
   ],
   "outputs": [],
   "metadata": {}
  },
  {
   "cell_type": "code",
   "execution_count": 35,
   "source": [
    "# Transformação de estruturas de dados\n",
    "# Funções built-in nativas do Python\n",
    "# int, float, str, list, tuple, etc."
   ],
   "outputs": [
    {
     "output_type": "execute_result",
     "data": {
      "text/plain": [
       "int"
      ]
     },
     "metadata": {},
     "execution_count": 35
    }
   ],
   "metadata": {}
  },
  {
   "cell_type": "code",
   "execution_count": 38,
   "source": [
    "# Variável booleana\n",
    "verdadeiro = True\n",
    "type(verdadeiro)"
   ],
   "outputs": [
    {
     "output_type": "execute_result",
     "data": {
      "text/plain": [
       "bool"
      ]
     },
     "metadata": {},
     "execution_count": 38
    }
   ],
   "metadata": {}
  },
  {
   "cell_type": "code",
   "execution_count": 40,
   "source": [
    "# Atribuição e comparação\n",
    "comparacao = 5 == 3\n",
    "comparacao"
   ],
   "outputs": [
    {
     "output_type": "execute_result",
     "data": {
      "text/plain": [
       "False"
      ]
     },
     "metadata": {},
     "execution_count": 40
    }
   ],
   "metadata": {}
  },
  {
   "cell_type": "markdown",
   "source": [
    "## String"
   ],
   "metadata": {}
  },
  {
   "cell_type": "code",
   "execution_count": 43,
   "source": [
    "string = \"!Q#*%(#*)(%*()*%#()\"\n",
    "nome = \"Henrique Alves Junqueira\"\n",
    "\n",
    "string_asplas_simples = 'Essa string está com aspas simples'"
   ],
   "outputs": [],
   "metadata": {}
  },
  {
   "cell_type": "code",
   "execution_count": 45,
   "source": [
    "# Métodos e atributos de string\n",
    "type(nome)"
   ],
   "outputs": [
    {
     "output_type": "execute_result",
     "data": {
      "text/plain": [
       "str"
      ]
     },
     "metadata": {},
     "execution_count": 45
    }
   ],
   "metadata": {}
  }
 ],
 "metadata": {
  "orig_nbformat": 4,
  "language_info": {
   "name": "python",
   "version": "3.8.10",
   "mimetype": "text/x-python",
   "codemirror_mode": {
    "name": "ipython",
    "version": 3
   },
   "pygments_lexer": "ipython3",
   "nbconvert_exporter": "python",
   "file_extension": ".py"
  },
  "kernelspec": {
   "name": "python3",
   "display_name": "Python 3.8.10 64-bit"
  },
  "interpreter": {
   "hash": "31f2aee4e71d21fbe5cf8b01ff0e069b9275f58929596ceb00d14d90e3e16cd6"
  }
 },
 "nbformat": 4,
 "nbformat_minor": 2
}